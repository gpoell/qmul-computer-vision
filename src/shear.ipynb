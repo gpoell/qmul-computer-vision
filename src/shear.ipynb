{
 "cells": [
  {
   "cell_type": "code",
   "execution_count": 3,
   "metadata": {},
   "outputs": [],
   "source": [
    "import numpy as np\n",
    "import math\n",
    "import cv2\n",
    "import matplotlib.pyplot as plt\n",
    "import time\n",
    "from MtxTfms.Rotation import Rotation\n",
    "from MtxTfms.create_test_image import create_test_image"
   ]
  },
  {
   "cell_type": "code",
   "execution_count": 96,
   "metadata": {},
   "outputs": [
    {
     "name": "stdout",
     "output_type": "stream",
     "text": [
      "Image shape:  (960, 1280, 3)\n",
      "Image origin:  [480, 640]\n",
      "[-480 -640] [-480  640] [ 480 -640] [480 640]\n",
      "[864 295] [433 562] [433 562] [864 295]\n",
      "New Origin:  [864, 562]\n",
      "Canvas:  (1729, 1125, 3)\n"
     ]
    },
    {
     "data": {
      "text/plain": [
       "True"
      ]
     },
     "execution_count": 96,
     "metadata": {},
     "output_type": "execute_result"
    }
   ],
   "source": [
    "image = cv2.imread('../images/test.jpg')\n",
    "# image = create_test_image()\n",
    "\n",
    "theta = 90\n",
    "theta2 = np.radians(75)\n",
    "# Create the rotation matrix\n",
    "t_shear =  np.array([\n",
    "        [1, 1/np.tan(theta2)],\n",
    "        [0, 1]\n",
    "    ])\n",
    "\n",
    "\n",
    "##################################\n",
    "t_rotate = np.array([\n",
    "        [round(np.cos(theta), 3), round(-np.sin(theta), 3)],\n",
    "        [round(np.sin(theta), 3), round(np.cos(theta), 3)]\n",
    "    ])\n",
    "##################################\n",
    "\n",
    "transform = np.dot(t_rotate, t_shear)\n",
    "\n",
    "\n",
    "# Calculate the pixel vectors with respect to the origin so we can perform the rotation\n",
    "def calc_pixel_vector(p, o):\n",
    "    return [int((p[0] - o[0])), int((p[1] - o[1]))]\n",
    "\n",
    "# Tranform the pixel vector by theta using the rotation matrix\n",
    "def calc_transform_vector(pxl_vector):\n",
    "    # return np.dot(t_shear, pxl_vector)\n",
    "    return np.dot(transform, pxl_vector)\n",
    "\n",
    "def shear_image(image, theta2):\n",
    "    # Calculate the origin of the image\n",
    "    # determine original image shape - decrement by 1 to align with array indexing\n",
    "    image_x = np.shape(image)[0]\n",
    "    image_y = np.shape(image)[1]\n",
    "\n",
    "    origin_x = math.floor(image_x/2)\n",
    "    origin_y = math.floor(image_y/2)\n",
    "    origin = [origin_x, origin_y]\n",
    "\n",
    "    # Generate a canvas based on new image size\n",
    "    top_left = np.subtract([0, 0], origin)\n",
    "    top_right = np.subtract([0, image_y], origin)\n",
    "    bottom_left = np.subtract([image_x, 0], origin)\n",
    "    bottom_right = np.subtract([image_x, image_y], origin)\n",
    "\n",
    "    t_top_left = np.abs(np.dot(transform, top_left).astype(int))\n",
    "    t_top_right = np.abs(np.dot(transform, top_right).astype(int))\n",
    "    t_bottom_left = np.abs(np.dot(transform, bottom_left).astype(int))\n",
    "    t_bottom_right = np.abs(np.dot(transform, bottom_right).astype(int))\n",
    "\n",
    "    print(\"Image shape: \", np.shape(image))\n",
    "    print(\"Image origin: \", origin)\n",
    "    print(top_left, top_right, bottom_left, bottom_right)\n",
    "\n",
    "    print(t_top_left, t_top_right, t_bottom_left, t_bottom_right)\n",
    "\n",
    "    canvas_x = np.max([t_top_left[0], t_top_right[0], t_bottom_left[0], t_bottom_right[0]])*2\n",
    "    canvas_y = np.max([t_top_left[1], t_top_right[1], t_bottom_left[1], t_bottom_right[1]])*2\n",
    "    canvas = np.zeros((canvas_x+1, canvas_y+1, 3))+255\n",
    "\n",
    "    # Generate new origin to align pixels\n",
    "    new_origin = [int(canvas_x/2), int(canvas_y/2)]\n",
    "\n",
    "    print(\"New Origin: \", new_origin)\n",
    "    print(\"Canvas: \", np.shape(canvas))\n",
    "\n",
    "\n",
    "    for i in range(image_x):\n",
    "        for j in range(image_y):\n",
    "            pxl_vals = image[i, j]\n",
    "            pxl_coords = [i, j]\n",
    "            pxl_vector = calc_pixel_vector(pxl_coords, origin)\n",
    "            t_vector = calc_transform_vector(pxl_vector)\n",
    "            result_vector = t_vector + new_origin\n",
    "            res_x = int(result_vector[0])\n",
    "            res_y = int(result_vector[1])\n",
    "            canvas[res_x, res_y] = pxl_vals\n",
    "    \n",
    "    return canvas\n",
    "\n",
    "result = shear_image(image, theta2)\n",
    "\n",
    "\n",
    "# Save the image in the output directory\n",
    "cv2.imwrite(\"./output/shear.png\", result)\n",
    "\n",
    "# Display the image\n",
    "# im = cv2.imread('./output/shear.png')\n",
    "# cv2.imshow('window', im)\n",
    "# cv2.waitKey(0)\n",
    "# cv2.destroyAllWindows()"
   ]
  },
  {
   "cell_type": "code",
   "execution_count": null,
   "metadata": {},
   "outputs": [],
   "source": []
  }
 ],
 "metadata": {
  "kernelspec": {
   "display_name": "submissions",
   "language": "python",
   "name": "python3"
  },
  "language_info": {
   "codemirror_mode": {
    "name": "ipython",
    "version": 3
   },
   "file_extension": ".py",
   "mimetype": "text/x-python",
   "name": "python",
   "nbconvert_exporter": "python",
   "pygments_lexer": "ipython3",
   "version": "3.11.2"
  }
 },
 "nbformat": 4,
 "nbformat_minor": 2
}
