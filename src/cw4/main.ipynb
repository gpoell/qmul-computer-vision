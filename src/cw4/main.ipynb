{
 "cells": [
  {
   "cell_type": "code",
   "execution_count": 1,
   "metadata": {},
   "outputs": [],
   "source": [
    "import numpy as np\n",
    "import cv2\n",
    "import matplotlib.pyplot as plt\n",
    "from utils import ICV_img_windows"
   ]
  },
  {
   "cell_type": "code",
   "execution_count": null,
   "metadata": {},
   "outputs": [],
   "source": [
    "# Convert images to Gray Scale with Open CV\n",
    "image = cv2.imread('../../data/DatasetA/face-1.jpg')\n",
    "image = cv2.cvtColor(image, cv2.COLOR_BGR2GRAY)\n",
    "\n",
    "sub_images = ICV_img_windows(image)"
   ]
  },
  {
   "cell_type": "code",
   "execution_count": null,
   "metadata": {},
   "outputs": [],
   "source": [
    "def divide_img_windows(image):\n",
    "    im_x = int(np.shape(image)[0] / 3)\n",
    "    im_y = int(np.shape(image)[1] / 3)\n",
    "\n",
    "    # Assuming this is a square image\n",
    "    # Loop this later\n",
    "    return [\n",
    "        image[:im_x, :im_y],\n",
    "        image[:im_x, im_y:im_y*2],\n",
    "        image[:im_x, im_y*2:],\n",
    "        image[im_x:im_x*2, :im_y],\n",
    "        image[im_x:im_x*2, im_y:im_y*2],\n",
    "        image[im_x:im_x*2, im_y*2:],\n",
    "        image[im_x*2:, :im_y],\n",
    "        image[im_x*2:, im_y:im_y*2],\n",
    "        image[im_x*2:, im_y*2:],\n",
    "    ]\n",
    "    \n",
    "sub_images = divide_img_windows(image)\n",
    "\n",
    "\n",
    "# Plot equally divided shapes\n",
    "fig, axs = plt.subplots(3, 3)\n",
    "axs[0, 0].imshow(sub_images[0], cmap=\"gray\")\n",
    "axs[0, 1].imshow(sub_images[1], cmap=\"gray\")\n",
    "axs[0, 2].imshow(sub_images[2], cmap=\"gray\")\n",
    "axs[1, 0].imshow(sub_images[3], cmap=\"gray\")\n",
    "axs[1, 1].imshow(sub_images[4], cmap=\"gray\")\n",
    "axs[1, 2].imshow(sub_images[5], cmap=\"gray\")\n",
    "axs[2, 0].imshow(sub_images[6], cmap=\"gray\")\n",
    "axs[2, 1].imshow(sub_images[7], cmap=\"gray\")\n",
    "axs[2, 2].imshow(sub_images[8], cmap=\"gray\")\n",
    "plt.savefig(fname=f'../../output/cw4/img_windows.png')"
   ]
  },
  {
   "cell_type": "code",
   "execution_count": null,
   "metadata": {},
   "outputs": [],
   "source": [
    "# Define a function that calculates the LBP histogram for a given image\n",
    "\n",
    "def image_lbp(image):\n",
    "\n",
    "    w_len = len(image)\n",
    "    lbp_index = []\n",
    "    \n",
    "    for i in range(w_len-2):\n",
    "        for j in range(w_len-2):\n",
    "            center = image[i+1, j+1]\n",
    "            kernel = image[i:i+3, j:j+3]\n",
    "            lbp = (kernel > center).astype(int)\n",
    "            lbp = np.array((lbp[0,0], lbp[0,1], lbp[0,2], lbp[1,2], lbp[2,2], lbp[2,1], lbp[2,0], lbp[1,0]))\n",
    "            base2 = np.array((128, 64, 32, 16, 8, 4, 2, 1))\n",
    "            lbp *= base2\n",
    "            result = np.sum(lbp)\n",
    "            lbp_index.append(result)\n",
    "    \n",
    "    return lbp_index\n",
    "\n",
    "\n"
   ]
  },
  {
   "cell_type": "code",
   "execution_count": null,
   "metadata": {},
   "outputs": [],
   "source": [
    "# Loop through image windows and plot the LBP Histograms\n",
    "lbp_hists = []\n",
    "for img in sub_images:\n",
    "    result = image_lbp(img)\n",
    "    lbp_hists.append(result)\n",
    "    \n",
    "# Plot histogram using square-root bins - this is equal to the window length (128x128)\n",
    "plt.figure(figsize=(12, 12))\n",
    "fig, axs = plt.subplots(2, 2)\n",
    "axs[0, 0].hist(lbp_hists[0], bins=128)\n",
    "axs[0, 1].hist(lbp_hists[1], bins=128)\n",
    "axs[1, 0].hist(lbp_hists[2], bins=128)\n",
    "axs[1, 1].hist(lbp_hists[3], bins=128)\n",
    "\n",
    "# Save the histograms\n",
    "plt.savefig(fname=f'./output/texture/figures/figureA.png')\n"
   ]
  },
  {
   "cell_type": "code",
   "execution_count": null,
   "metadata": {},
   "outputs": [],
   "source": [
    "# Create a descriptor that represents the whole image as consisting of multiple windows"
   ]
  }
 ],
 "metadata": {
  "kernelspec": {
   "display_name": "Coursework1",
   "language": "python",
   "name": "python3"
  },
  "language_info": {
   "codemirror_mode": {
    "name": "ipython",
    "version": 3
   },
   "file_extension": ".py",
   "mimetype": "text/x-python",
   "name": "python",
   "nbconvert_exporter": "python",
   "pygments_lexer": "ipython3",
   "version": "3.11.2"
  }
 },
 "nbformat": 4,
 "nbformat_minor": 2
}
