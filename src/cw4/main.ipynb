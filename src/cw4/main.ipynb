{
 "cells": [
  {
   "cell_type": "code",
   "execution_count": null,
   "metadata": {},
   "outputs": [],
   "source": [
    "import numpy as np\n",
    "import cv2\n",
    "import matplotlib.pyplot as plt\n",
    "from utils import ICV_img_windows, ICV_img_lbp, ICV_img_lbp_hist"
   ]
  },
  {
   "cell_type": "code",
   "execution_count": null,
   "metadata": {},
   "outputs": [],
   "source": [
    "# Convert images to Gray Scale with Open CV\n",
    "image = cv2.imread('../../data/DatasetA/face-1.jpg')\n",
    "image = cv2.cvtColor(image, cv2.COLOR_BGR2GRAY)\n",
    "\n",
    "# Split the image into equal windows: this example will use 9\n",
    "images = ICV_img_windows(image)\n",
    "\n",
    "# Calculate and plot the Local Binary Patterns for each image\n",
    "# Use the returned LBPs as descriptors for classification\n",
    "lbp_descriptors = ICV_img_lbp_hist(images)\n",
    "# Plot histogram using square-root bins - this is equal to the window length (128x128)\n",
    "plt.figure(figsize=(12, 12))\n",
    "fig, axs = plt.subplots(3, 3)\n",
    "axs[0, 0].hist(lbp_descriptors[0], bins=256)\n",
    "axs[0, 1].hist(lbp_descriptors[1], bins=256)\n",
    "axs[0, 2].hist(lbp_descriptors[2], bins=256)\n",
    "axs[1, 0].hist(lbp_descriptors[3], bins=256)\n",
    "axs[1, 1].hist(lbp_descriptors[4], bins=256)\n",
    "axs[1, 2].hist(lbp_descriptors[5], bins=256)\n",
    "axs[2, 0].hist(lbp_descriptors[6], bins=256)\n",
    "axs[2, 1].hist(lbp_descriptors[7], bins=256)\n",
    "axs[2, 2].hist(lbp_descriptors[8], bins=256)\n",
    "\n",
    "# Save the histograms\n",
    "plt.savefig(fname=f'../../output/cw4/face1_lbp_hists.png')\n"
   ]
  },
  {
   "cell_type": "code",
   "execution_count": null,
   "metadata": {},
   "outputs": [],
   "source": [
    "# Create descriptors from the face-1 image to classify other images as a face or car\n",
    "\n",
    "# Eyes - the LBP descriptors for the eyes are located at indexes 0 and 2.\n",
    "# Add the descriptors to group the eyes as one descriptor\n",
    "desc_eyes = np.array((lbp_descriptors[0] + lbp_descriptors[2]))\n",
    "\n",
    "\n",
    "# Nose - the LBP descriptor for the nose is located at index 4\n",
    "desc_nose = np.array(lbp_descriptors[4])\n",
    "\n",
    "# Mouth - the LBP descriptor for the mouth is located at index 7\n",
    "desc_mouth = np.array(lbp_descriptors[7])\n",
    "\n",
    "# Test this on another face image. Gather the LBPs for the image\n",
    "image = cv2.imread('../../data/DatasetA/face-3.jpg')\n",
    "image = cv2.cvtColor(image, cv2.COLOR_BGR2GRAY)\n",
    "\n",
    "images = ICV_img_windows(image)\n",
    "img2_lbp_descriptors = ICV_img_lbp_hist(images)\n",
    "\n",
    "# Calculate the difference between the lbp values and plot them\n",
    "result = desc_eyes - (img2_lbp_descriptors[0] + img2_lbp_descriptors[1])\n"
   ]
  },
  {
   "cell_type": "code",
   "execution_count": null,
   "metadata": {},
   "outputs": [],
   "source": []
  }
 ],
 "metadata": {
  "kernelspec": {
   "display_name": "Coursework1",
   "language": "python",
   "name": "python3"
  },
  "language_info": {
   "codemirror_mode": {
    "name": "ipython",
    "version": 3
   },
   "file_extension": ".py",
   "mimetype": "text/x-python",
   "name": "python",
   "nbconvert_exporter": "python",
   "pygments_lexer": "ipython3",
   "version": "3.11.2"
  }
 },
 "nbformat": 4,
 "nbformat_minor": 2
}
