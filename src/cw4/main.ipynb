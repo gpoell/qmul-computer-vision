{
 "cells": [
  {
   "cell_type": "code",
   "execution_count": null,
   "metadata": {},
   "outputs": [],
   "source": [
    "import numpy as np\n",
    "import cv2\n",
    "import matplotlib.pyplot as plt\n",
    "from utils import ICV_img_windows, ICV_img_lbp, ICV_img_lbp_hist, ICV_plot_figs, ICV_plot_windows"
   ]
  },
  {
   "cell_type": "code",
   "execution_count": null,
   "metadata": {},
   "outputs": [],
   "source": [
    "# Face-1 Image\n",
    "# Create a global descriptor for the image\n",
    "#   1. Convert image to grayscale\n",
    "#   2. Split image into 9 windows\n",
    "#   3. Calculate LBP descriptors for each window\n",
    "#   4. Determine global descriptor using concatenation of window descriptors\n",
    "#   5. Save Images for visual comparison\n",
    "\n",
    "image_name = \"face-1\"\n",
    "\n",
    "# Convert images to Gray Scale with Open CV\n",
    "image = cv2.imread(f'../../data/DatasetA/{image_name}.jpg')\n",
    "image = cv2.cvtColor(image, cv2.COLOR_BGR2GRAY)\n",
    "\n",
    "# Split the image into equal windows: this example will use 9\n",
    "images = ICV_img_windows(image)\n",
    "\n",
    "# Calculate and plot the Local Binary Patterns for each image\n",
    "# Use the returned LBPs as descriptors for classification\n",
    "(lbp_descriptors, lbp_hist) = ICV_img_lbp_hist(images)\n",
    "\n",
    "# Create descriptors from the face-1 image to classify other images as a face or car\n",
    "global_desc = np.concatenate(lbp_descriptors, axis=None)\n",
    "\n",
    "# Save and plot images\n",
    "cv2.imwrite(f'../../output/cw4/{image_name}_gray.png', image)\n",
    "ICV_plot_windows(images, image_name)\n",
    "ICV_plot_figs(lbp_hist, image_name)\n",
    "\n"
   ]
  },
  {
   "cell_type": "code",
   "execution_count": null,
   "metadata": {},
   "outputs": [],
   "source": [
    "# Car-1 Image\n",
    "# Create a global descriptor for the image\n",
    "#   1. Convert image to grayscale\n",
    "#   2. Split image into 9 windows\n",
    "#   3. Calculate LBP descriptors for each window\n",
    "#   4. Determine global descriptor using concatenation of window descriptors\n",
    "#   5. Save Images for visual comparison\n",
    "\n",
    "image_name = \"car-3\"\n",
    "\n",
    "# Convert images to Gray Scale with Open CV\n",
    "image2 = cv2.imread(f'../../data/DatasetA/{image_name}.jpg')\n",
    "image2 = cv2.cvtColor(image2, cv2.COLOR_BGR2GRAY)\n",
    "\n",
    "# Split the image into equal windows: this example will use 9\n",
    "images = ICV_img_windows(image2)\n",
    "\n",
    "# Calculate and plot the Local Binary Patterns for each image\n",
    "# Use the returned LBPs as descriptors for classification\n",
    "(lbp_descriptors, lbp_hist) = ICV_img_lbp_hist(images)\n",
    "\n",
    "# Create descriptors from the face-1 image to classify other images as a face or car\n",
    "global_desc2 = np.concatenate(lbp_descriptors, axis=None)\n",
    "\n",
    "# Save and plot images\n",
    "cv2.imwrite(f'../../output/cw4/{image_name}_gray.png', image2)\n",
    "ICV_plot_windows(images, image_name)\n",
    "ICV_plot_figs(lbp_hist, image_name)\n"
   ]
  },
  {
   "cell_type": "code",
   "execution_count": null,
   "metadata": {},
   "outputs": [],
   "source": [
    "# Calculate the difference between the lbp values and plot them\n",
    "result_min = np.minimum(global_desc, global_desc2)\n",
    "result = np.abs(global_desc - global_desc2)\n"
   ]
  },
  {
   "cell_type": "code",
   "execution_count": null,
   "metadata": {},
   "outputs": [],
   "source": [
    "# Classify the images using Face 1 image as the reference\n",
    "# The face images should contain a similar global description <5% where the car could be >25%\n",
    "\n",
    "face1_classifier = np.sum(global_desc)\n",
    "img_classifier = np.sum(global_desc2)\n",
    "class_diff = np.abs(face1_classifier - img_classifier)\n",
    "error = (1 - (class_diff / face1_classifier)) * 100\n",
    "\n",
    "print(error)\n"
   ]
  },
  {
   "cell_type": "code",
   "execution_count": null,
   "metadata": {},
   "outputs": [],
   "source": [
    "# Save and Plot Global Descriptors -- Face\n",
    "plt.hist(global_desc, bins=256)\n",
    "plt.savefig('../../output/cw4/face1_global_desc.png')"
   ]
  },
  {
   "cell_type": "code",
   "execution_count": null,
   "metadata": {},
   "outputs": [],
   "source": [
    "# Save and Plot Global Descriptors -- Car\n",
    "plt.hist(global_desc2, bins=256)\n",
    "plt.savefig('../../output/cw4/car1_global_desc.png')"
   ]
  },
  {
   "cell_type": "code",
   "execution_count": null,
   "metadata": {},
   "outputs": [],
   "source": [
    "# Save and Plot Global Descriptors -- Result\n",
    "plt.hist(result, bins=256)\n",
    "plt.savefig('../../output/cw4/result_global_desc.png')"
   ]
  },
  {
   "cell_type": "code",
   "execution_count": null,
   "metadata": {},
   "outputs": [],
   "source": []
  }
 ],
 "metadata": {
  "kernelspec": {
   "display_name": "Coursework1",
   "language": "python",
   "name": "python3"
  },
  "language_info": {
   "codemirror_mode": {
    "name": "ipython",
    "version": 3
   },
   "file_extension": ".py",
   "mimetype": "text/x-python",
   "name": "python",
   "nbconvert_exporter": "python",
   "pygments_lexer": "ipython3",
   "version": "3.11.2"
  }
 },
 "nbformat": 4,
 "nbformat_minor": 2
}
