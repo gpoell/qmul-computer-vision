{
 "cells": [
  {
   "cell_type": "code",
   "execution_count": null,
   "metadata": {},
   "outputs": [],
   "source": [
    "import numpy as np\n",
    "import cv2\n",
    "import matplotlib.pyplot as plt\n",
    "import math"
   ]
  },
  {
   "cell_type": "code",
   "execution_count": null,
   "metadata": {},
   "outputs": [],
   "source": [
    "# Perform pixel-by-pixel frame differencing using the first frame as the reference frame\n",
    "\n",
    "# Read in video from DatasetB and determine total amount of frames to process\n",
    "frames = cv2.VideoCapture(\"../data/DatasetC.mpg\")\n",
    "\n",
    "# Determine the fps and duration of the video\n",
    "fps = frames.get(cv2.CAP_PROP_FPS)\n",
    "total_frames = int(frames.get(cv2.CAP_PROP_FRAME_COUNT))\n",
    "duration = total_frames/fps\n",
    "\n",
    "# Exit the program if the frames cannot be read\n",
    "if not frames.isOpened():\n",
    "    print('Unable to open')\n",
    "    exit(0)\n",
    "\n",
    "# An index will be incremented for each image captured and used for the naming convention of saving the image\n",
    "index = 0\n",
    "\n",
    "# Create a dictionary to capture color metrics\n",
    "ref_frame = []\n",
    "frame_metrics = []\n",
    "images = []\n",
    "\n",
    "# Loop through the frames and every second save the image, create the color histogram, and capture the color metrics\n",
    "for i in range(total_frames):\n",
    "\n",
    "    # Break if the frame is not read\n",
    "    ret, frame = frames.read()\n",
    "    if frame is None:\n",
    "        break\n",
    "    \n",
    "    # Capture an image every second (or every 30 frames per second)\n",
    "    if i % fps == 0:\n",
    "        \n",
    "        # Save the frame as an image for visual comparison\n",
    "        cv2.imwrite('./output/object_counting/video_out/frame' + str(index) + '.png', frame)\n",
    "\n",
    "        # Convert to Gray Scale to reduce noise\n",
    "        frame = cv2.cvtColor(frame, cv2.COLOR_BGR2GRAY)\n",
    "\n",
    "        # Store images for processing background\n",
    "        images.append(frame)\n",
    "\n",
    "        # Store the first frame as the reference frame\n",
    "        if index == 0:\n",
    "            ref_frame = frame\n",
    "\n",
    "        # Perform frame differencing using the first reference frame\n",
    "        result = frame - ref_frame\n",
    "        # r, g, b = result[:,:,0].flatten(), result[:,:,1].flatten(), result[:,:,2].flatten()\n",
    "        # result = r + g + b\n",
    "        frame_metrics.append(result)\n",
    "\n",
    "        # Save the frame as an image for visual comparison\n",
    "        cv2.imwrite('./output/object_counting/frame_diff/frame' + str(index) + '.png', result)\n",
    "        \n",
    "        # Save the color histogram of each for visual comparison and return color values\n",
    "        # frame_color_metrics = color_histogram(index, frame)\n",
    "\n",
    "        # Update list for histogram distance processing\n",
    "        # video_color_metrics = frame_color_metrics\n",
    "        ref_frame = frame\n",
    "        # Step the index\n",
    "        index += 1\n",
    "\n",
    "# Plot equally divided shapes\n",
    "plt.imshow(frame_metrics[1], cmap=\"gray\")\n",
    "# plt.figure(figsize=(20, 20))\n",
    "# fig, axs = plt.subplots(2, 3)\n",
    "# axs[0, 0].hist(frame_metrics[0], bins=512)\n",
    "# axs[0, 1].hist(frame_metrics[1], bins=512)\n",
    "# axs[0, 2].hist(frame_metrics[2], bins=512)\n",
    "# axs[1, 0].hist(frame_metrics[3], bins=512)\n",
    "# axs[1, 1].hist(frame_metrics[4], bins=512)\n",
    "# axs[1, 2].hist(frame_metrics[5], bins=512)\n",
    "# fig, axs = plt.subplots(2, 3)\n",
    "# axs[0, 0].imshow(frame_metrics[0])\n",
    "# axs[0, 1].imshow(frame_metrics[1])\n",
    "# axs[0, 2].imshow(frame_metrics[2])\n",
    "# axs[1, 0].imshow(frame_metrics[3])\n",
    "# axs[1, 1].imshow(frame_metrics[4])\n",
    "# axs[1, 2].imshow(frame_metrics[5])"
   ]
  },
  {
   "cell_type": "code",
   "execution_count": null,
   "metadata": {},
   "outputs": [],
   "source": [
    "# Create a function that generates a reference frame (background)\n",
    "background_frame = np.median(images, axis=0).astype(np.uint8)\n",
    "\n",
    "plt.imshow(background_frame, cmap=\"gray\")\n"
   ]
  },
  {
   "cell_type": "code",
   "execution_count": null,
   "metadata": {},
   "outputs": [],
   "source": [
    "# Subtract first image from background\n",
    "\n",
    "result = images[0] - background_frame\n",
    "\n",
    "hist_res = result.flatten()\n",
    "plt.imshow(result, cmap=\"gray\")\n"
   ]
  },
  {
   "cell_type": "code",
   "execution_count": null,
   "metadata": {},
   "outputs": [],
   "source": [
    "\n",
    "plt.hist(hist_res, bins=128)"
   ]
  },
  {
   "cell_type": "code",
   "execution_count": null,
   "metadata": {},
   "outputs": [],
   "source": []
  }
 ],
 "metadata": {
  "kernelspec": {
   "display_name": "Coursework1",
   "language": "python",
   "name": "python3"
  },
  "language_info": {
   "codemirror_mode": {
    "name": "ipython",
    "version": 3
   },
   "file_extension": ".py",
   "mimetype": "text/x-python",
   "name": "python",
   "nbconvert_exporter": "python",
   "pygments_lexer": "ipython3",
   "version": "3.11.2"
  }
 },
 "nbformat": 4,
 "nbformat_minor": 2
}
