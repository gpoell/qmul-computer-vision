{
 "cells": [
  {
   "cell_type": "code",
   "execution_count": 25,
   "metadata": {},
   "outputs": [],
   "source": [
    "import numpy as np\n",
    "import math\n",
    "import cv2\n",
    "from utils import ICV_mtrx_convolution"
   ]
  },
  {
   "cell_type": "code",
   "execution_count": 26,
   "metadata": {},
   "outputs": [
    {
     "data": {
      "text/plain": [
       "True"
      ]
     },
     "execution_count": 26,
     "metadata": {},
     "output_type": "execute_result"
    }
   ],
   "source": [
    "# Load image from Dataset A and convert to Grayscale\n",
    "image = cv2.imread(\"../../data/DatasetA/car-1.jpg\")\n",
    "image = cv2.cvtColor(image, cv2.COLOR_BGR2GRAY)\n",
    "\n",
    "cv2.imwrite(\"../../output/cw2/original.png\", image)\n"
   ]
  },
  {
   "cell_type": "code",
   "execution_count": null,
   "metadata": {},
   "outputs": [],
   "source": [
    "# Part A - Code a function that takes an input image, performs convolution with a given kernel, and returns the \n",
    "# resulting image\n",
    "\n",
    "# Test with a Gaussian like filter\n",
    "conv_kernel_a = [\n",
    "    [1, 1, 1],\n",
    "    [1, 4, 1],\n",
    "    [1, 1, 1]\n",
    "]\n",
    "\n",
    "# Perform the convolution on the image\n",
    "result = ICV_mtrx_convolution(image, conv_kernel_a)\n",
    "\n",
    "# Save the image to the output directory\n",
    "cv2.imwrite(\"../../output/cw2/result_A.png\", result)"
   ]
  },
  {
   "cell_type": "code",
   "execution_count": null,
   "metadata": {},
   "outputs": [],
   "source": [
    "# Part B\n",
    "# Design a convolution kernel that computes, for each pixel, the average intensity value in a 3x3 region. \n",
    "# Use this kernel and the filtering function above, and save the resulting image.\n",
    "\n",
    "# Define the convolution kernel\n",
    "conv_kernel_b = np.ones((3,3))\n",
    "\n",
    "# Perform the convolution on the image\n",
    "result = ICV_mtrx_convolution(image, conv_kernel_b)\n",
    "\n",
    "# Save the image to the output directory\n",
    "cv2.imwrite(\"../../output/cw2/result_B.png\", result)"
   ]
  },
  {
   "cell_type": "code",
   "execution_count": null,
   "metadata": {},
   "outputs": [],
   "source": [
    "# Part C\n",
    "# Use the kernels provided below, apply the filtering function and save the resulting images. Comment \n",
    "# on the effect of each kernel.\n",
    "\n",
    "# Define the convolution kernel\n",
    "kernel_A = [\n",
    "    [1, 2, 1],\n",
    "    [2, 4, 2],\n",
    "    [1, 2, 1]\n",
    "]\n",
    "\n",
    "kernel_B = [\n",
    "    [0, 1, 0],\n",
    "    [1, -4, 1],\n",
    "    [0, 1, 0]\n",
    "]\n",
    "\n",
    "# Perform the convolution on the image\n",
    "result_a = ICV_mtrx_convolution(image, kernel_A)\n",
    "result_b = ICV_mtrx_convolution(image, kernel_B)\n",
    "\n",
    "# Save the image to the output directory\n",
    "cv2.imwrite(\"../../output/cw2/result_C1.png\", result_a)\n",
    "cv2.imwrite(\"../../output/cw2/result_C2.png\", result_b)"
   ]
  },
  {
   "cell_type": "code",
   "execution_count": 35,
   "metadata": {},
   "outputs": [
    {
     "name": "stdout",
     "output_type": "stream",
     "text": [
      "(256, 256)\n",
      "65180\n",
      "65456\n"
     ]
    }
   ],
   "source": [
    "# Task D: Use the filtering function for the following filtering operations: (i) A followed by A; (ii) A followed by B; \n",
    "# (iii) B followed by A.\n",
    "\n",
    "# A followed by A\n",
    "result = ICV_mtrx_convolution(image, kernel_A)\n",
    "result = ICV_mtrx_convolution(result, kernel_A)\n",
    "cv2.imwrite(\"../../output/cw2/result_D1.png\", result)\n",
    "\n",
    "# A followed by B\n",
    "result = ICV_mtrx_convolution(image, kernel_A)\n",
    "result = ICV_mtrx_convolution(result, kernel_B)\n",
    "cv2.imwrite(\"../../output/cw2/result_D2.png\", result)\n",
    "\n",
    "# A followed by B\n",
    "result = ICV_mtrx_convolution(image, kernel_B)\n",
    "result = ICV_mtrx_convolution(result, kernel_A)\n",
    "cv2.imwrite(\"../../output/cw2/result_D3.png\", result)"
   ]
  },
  {
   "cell_type": "code",
   "execution_count": null,
   "metadata": {},
   "outputs": [],
   "source": []
  }
 ],
 "metadata": {
  "kernelspec": {
   "display_name": "submissions",
   "language": "python",
   "name": "python3"
  },
  "language_info": {
   "codemirror_mode": {
    "name": "ipython",
    "version": 3
   },
   "file_extension": ".py",
   "mimetype": "text/x-python",
   "name": "python",
   "nbconvert_exporter": "python",
   "pygments_lexer": "ipython3",
   "version": "3.11.2"
  }
 },
 "nbformat": 4,
 "nbformat_minor": 2
}
