{
 "cells": [
  {
   "cell_type": "code",
   "execution_count": 1,
   "metadata": {},
   "outputs": [],
   "source": [
    "import numpy as np\n",
    "import math\n",
    "import cv2"
   ]
  },
  {
   "cell_type": "code",
   "execution_count": 12,
   "metadata": {},
   "outputs": [
    {
     "data": {
      "text/plain": [
       "True"
      ]
     },
     "execution_count": 12,
     "metadata": {},
     "output_type": "execute_result"
    }
   ],
   "source": [
    "# Let's use Grayscale for simplicity\n",
    "image = cv2.imread(\"../../data/DatasetA/car-1.jpg\")\n",
    "image = cv2.cvtColor(image, cv2.COLOR_BGR2GRAY)\n",
    "\n",
    "cv2.imwrite(\"../../output/cw2/original.png\", image)\n"
   ]
  },
  {
   "cell_type": "code",
   "execution_count": 13,
   "metadata": {},
   "outputs": [],
   "source": [
    "# Task A: Code a function that takes an input image, performs convolution with a given kernel, and returns the \n",
    "# resulting image\n",
    "\n",
    "def mtrx_convolution_tfm(image, conv_kernel):\n",
    "\n",
    "    # Create the new image canvas\n",
    "    image_x = len(image[:,0])\n",
    "    image_y = len(image[0,:])\n",
    "    canvas = np.zeros((image_x, image_y))\n",
    "\n",
    "    # Determine the sum of the convolution kernel to be used for the convolution calculation\n",
    "    conv_kernel_sum = np.sum(conv_kernel)\n",
    "    # If the kernel sum is zero then set it to 1 to avoid calculation error\n",
    "    if conv_kernel_sum == 0:\n",
    "        conv_kernel_sum = 1\n",
    "\n",
    "    # The length of the convolution kernel determines the pixel kernel to process\n",
    "    cv_x = int(np.shape(conv_kernel)[0])\n",
    "\n",
    "    # Loop through image pixels to perform the convolution\n",
    "    for i in range(image_x):\n",
    "\n",
    "        # Skip the borders\n",
    "        if i == image_x-cv_x:\n",
    "            break\n",
    "        \n",
    "        for j in range(image_y):\n",
    "\n",
    "            # Skip the borders\n",
    "            if j == image_y-cv_x:\n",
    "                break\n",
    "            # Define the image kernel size based on the size of the convolution kernel\n",
    "            image_kernel = image[i:i+cv_x, j:j+cv_x]\n",
    "            \n",
    "            # Determine the Convolution Result (the sum of the product of each pixel)\n",
    "            conv_result = np.sum(conv_kernel * image_kernel)\n",
    "            # print(image[i, j])\n",
    "            result = conv_result / conv_kernel_sum\n",
    "            # result = math.floor((np.sum(result)) * (1/np.sum(np.absolute(conv_kernel)))) # Issue here with one kernel - its sum is ZERO\n",
    "            canvas[i, j] = result\n",
    "\n",
    "    return canvas\n"
   ]
  },
  {
   "cell_type": "code",
   "execution_count": 15,
   "metadata": {},
   "outputs": [
    {
     "name": "stdout",
     "output_type": "stream",
     "text": [
      "[[93 93 81]\n",
      " [88 88 83]\n",
      " [87 80 85]]\n",
      "[[86.83333333 85.83333333 89.08333333]\n",
      " [84.         86.08333333 90.08333333]\n",
      " [84.58333333 86.5        88.41666667]]\n"
     ]
    },
    {
     "data": {
      "text/plain": [
       "True"
      ]
     },
     "execution_count": 15,
     "metadata": {},
     "output_type": "execute_result"
    }
   ],
   "source": [
    "# Part A - Code a function that takes an input image, performs convolution with a given kernel, and returns the \n",
    "# resulting image\n",
    "\n",
    "# Test with a Gaussian like filter\n",
    "conv_kernel_a = [\n",
    "    [1, 1, 1],\n",
    "    [1, 4, 1],\n",
    "    [1, 1, 1]\n",
    "]\n",
    "\n",
    "result = mtrx_convolution_tfm(image, conv_kernel_a)\n",
    "\n",
    "print(image[1:4, 1:4])\n",
    "print(result[1:4, 1:4])\n",
    "\n",
    "cv2.imwrite(\"../../output/cw2/result_A.png\", result)"
   ]
  },
  {
   "cell_type": "code",
   "execution_count": 16,
   "metadata": {},
   "outputs": [
    {
     "data": {
      "text/plain": [
       "True"
      ]
     },
     "execution_count": 16,
     "metadata": {},
     "output_type": "execute_result"
    }
   ],
   "source": [
    "# Part B\n",
    "# Design a convolution kernel that computes, for each pixel, the average intensity value in a 3x3 region. \n",
    "# Use this kernel and the filtering function above, and save the resulting image.\n",
    "\n",
    "# Define the convolution kernel\n",
    "conv_kernel_b = np.ones((3,3))\n",
    "\n",
    "# Perform the convolution on the image\n",
    "result = mtrx_convolution_tfm(image, conv_kernel_b)\n",
    "\n",
    "# Save the image to the output directory\n",
    "cv2.imwrite(\"../../output/cw2/result_B.png\", result)"
   ]
  },
  {
   "cell_type": "code",
   "execution_count": 17,
   "metadata": {},
   "outputs": [
    {
     "name": "stderr",
     "output_type": "stream",
     "text": [
      "C:\\Users\\gpoel\\AppData\\Local\\Temp\\ipykernel_27076\\3676412732.py:35: RuntimeWarning: divide by zero encountered in scalar divide\n",
      "  result = conv_result / conv_kernel_sum\n",
      "C:\\Users\\gpoel\\AppData\\Local\\Temp\\ipykernel_27076\\3676412732.py:35: RuntimeWarning: invalid value encountered in scalar divide\n",
      "  result = conv_result / conv_kernel_sum\n"
     ]
    },
    {
     "data": {
      "text/plain": [
       "True"
      ]
     },
     "execution_count": 17,
     "metadata": {},
     "output_type": "execute_result"
    }
   ],
   "source": [
    "# Part C\n",
    "#Use the kernels provided below, apply the filtering function and save the resulting images. Comment \n",
    "#on the effect of each kernel.\n",
    "\n",
    "kernel_A = [\n",
    "    [1, 2, 1],\n",
    "    [2, 4, 2],\n",
    "    [1, 2, 1]\n",
    "]\n",
    "\n",
    "kernel_B = [\n",
    "    [0, 1, 0],\n",
    "    [1, -4, 1],\n",
    "    [0, 1, 0]\n",
    "]\n",
    "\n",
    "result_a = mtrx_convolution_tfm(image, kernel_A)\n",
    "result_b = mtrx_convolution_tfm(image, kernel_B)\n",
    "\n",
    "cv2.imwrite(\"../../output/cw2/result_C1.png\", result_a)\n",
    "cv2.imwrite(\"../../output/cw2/result_C2.png\", result_b)"
   ]
  },
  {
   "cell_type": "code",
   "execution_count": null,
   "metadata": {},
   "outputs": [],
   "source": []
  }
 ],
 "metadata": {
  "kernelspec": {
   "display_name": "submissions",
   "language": "python",
   "name": "python3"
  },
  "language_info": {
   "codemirror_mode": {
    "name": "ipython",
    "version": 3
   },
   "file_extension": ".py",
   "mimetype": "text/x-python",
   "name": "python",
   "nbconvert_exporter": "python",
   "pygments_lexer": "ipython3",
   "version": "3.11.2"
  }
 },
 "nbformat": 4,
 "nbformat_minor": 2
}
