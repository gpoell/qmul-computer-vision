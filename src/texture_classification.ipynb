{
 "cells": [
  {
   "cell_type": "code",
   "execution_count": null,
   "metadata": {},
   "outputs": [],
   "source": [
    "import numpy as np\n",
    "import cv2\n",
    "import matplotlib.pyplot as plt\n",
    "import math"
   ]
  },
  {
   "cell_type": "code",
   "execution_count": null,
   "metadata": {},
   "outputs": [],
   "source": [
    "# Convert images to Gray Scale with Open CV\n",
    "image = cv2.imread('../data/DatasetA/face-3.jpg')\n",
    "image = cv2.cvtColor(image, cv2.COLOR_BGR2GRAY)\n",
    "\n",
    "plt.imshow(image, cmap=\"gray\")"
   ]
  },
  {
   "cell_type": "code",
   "execution_count": null,
   "metadata": {},
   "outputs": [],
   "source": [
    "# Divide the image into equal parts (4?) and display\n",
    "im_shape = np.array(np.shape(image))\n",
    "equal_parts = 6\n",
    "equal_parts *= (1/2)\n",
    "index = im_shape / equal_parts\n",
    "index = math.floor(index[0])\n",
    "print(index)\n",
    "\n",
    "def divide_img_windows(image, windows=4):\n",
    "    im_shape = np.array(np.shape(image))\n",
    "    thresh = math.sqrt(windows)\n",
    "    index = im_shape / thresh\n",
    "    # Assuming this is a square image\n",
    "    index = math.floor(index[0])\n",
    "    # Loop this later\n",
    "    return [\n",
    "        image[:index, :index],\n",
    "        image[:index, index:],\n",
    "        image[index:, :index],\n",
    "        image[index:, index:]\n",
    "    ]\n",
    "    \n",
    "sub_images = divide_img_windows(image, 4)\n",
    "\n",
    "# Plot equally divided shapes\n",
    "fig, axs = plt.subplots(2, 2)\n",
    "axs[0, 0].imshow(sub_images[0], cmap=\"gray\")\n",
    "axs[0, 1].imshow(sub_images[1], cmap=\"gray\")\n",
    "axs[1, 0].imshow(sub_images[2], cmap=\"gray\")\n",
    "axs[1, 1].imshow(sub_images[3], cmap=\"gray\")"
   ]
  },
  {
   "cell_type": "code",
   "execution_count": null,
   "metadata": {},
   "outputs": [],
   "source": [
    "# Define a function that calculates the LBP histogram for a given image\n",
    "\n",
    "def image_lbp(image):\n",
    "\n",
    "    w_len = len(image)\n",
    "    lbp_index = []\n",
    "    \n",
    "    for i in range(w_len-2):\n",
    "        for j in range(w_len-2):\n",
    "            center = image[i+1, j+1]\n",
    "            kernel = image[i:i+3, j:j+3]\n",
    "            lbp = (kernel > center).astype(int)\n",
    "            lbp = np.array((lbp[0,0], lbp[0,1], lbp[0,2], lbp[1,2], lbp[2,2], lbp[2,1], lbp[2,0], lbp[1,0]))\n",
    "            base2 = np.array((128, 64, 32, 16, 8, 4, 2, 1))\n",
    "            lbp *= base2\n",
    "            result = np.sum(lbp)\n",
    "            lbp_index.append(result)\n",
    "    \n",
    "    return lbp_index\n",
    "\n",
    "\n"
   ]
  },
  {
   "cell_type": "code",
   "execution_count": null,
   "metadata": {},
   "outputs": [],
   "source": [
    "# Loop through image windows and plot the LBP Histograms\n",
    "lbp_hists = []\n",
    "for img in sub_images:\n",
    "    result = image_lbp(img)\n",
    "    lbp_hists.append(result)\n",
    "    \n",
    "# Plot histogram using square-root bins - this is equal to the window length (128x128)\n",
    "plt.figure(figsize=(12, 12))\n",
    "fig, axs = plt.subplots(2, 2)\n",
    "axs[0, 0].hist(lbp_hists[0], bins=128)\n",
    "axs[0, 1].hist(lbp_hists[1], bins=128)\n",
    "axs[1, 0].hist(lbp_hists[2], bins=128)\n",
    "axs[1, 1].hist(lbp_hists[3], bins=128)\n",
    "\n",
    "# Save the histograms\n",
    "plt.savefig(fname=f'./output/texture/figures/figureA.png')\n"
   ]
  },
  {
   "cell_type": "code",
   "execution_count": null,
   "metadata": {},
   "outputs": [],
   "source": [
    "# Create a descriptor that represents the whole image as consisting of multiple windows"
   ]
  }
 ],
 "metadata": {
  "kernelspec": {
   "display_name": "Coursework1",
   "language": "python",
   "name": "python3"
  },
  "language_info": {
   "codemirror_mode": {
    "name": "ipython",
    "version": 3
   },
   "file_extension": ".py",
   "mimetype": "text/x-python",
   "name": "python",
   "nbconvert_exporter": "python",
   "pygments_lexer": "ipython3",
   "version": "3.11.2"
  }
 },
 "nbformat": 4,
 "nbformat_minor": 2
}
