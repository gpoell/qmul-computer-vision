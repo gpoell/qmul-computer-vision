{
 "cells": [
  {
   "cell_type": "code",
   "execution_count": 170,
   "metadata": {},
   "outputs": [],
   "source": [
    "import numpy as np\n",
    "import math\n",
    "import cv2"
   ]
  },
  {
   "cell_type": "code",
   "execution_count": 171,
   "metadata": {},
   "outputs": [
    {
     "data": {
      "text/plain": [
       "True"
      ]
     },
     "execution_count": 171,
     "metadata": {},
     "output_type": "execute_result"
    }
   ],
   "source": [
    "# Let's use Grayscale for simplicity\n",
    "image = cv2.imread('../images/test.jpg')\n",
    "image = cv2.cvtColor(image, cv2.COLOR_BGR2GRAY)\n",
    "\n",
    "cv2.imwrite(\"./output/convolution/original.png\", image)\n"
   ]
  },
  {
   "cell_type": "code",
   "execution_count": 176,
   "metadata": {},
   "outputs": [],
   "source": [
    "def mtrx_convolution_tfm(image, conv_kernel):\n",
    "\n",
    "    # Create the new image canvas\n",
    "    image_x = len(image[:,0])\n",
    "    image_y = len(image[0,:])\n",
    "    canvas = np.zeros((image_x, image_y))\n",
    "\n",
    "    # Get 1 dimension convolution kernel to use for processing - since it is square we only need 1 side\n",
    "    cv_x = int(np.shape(conv_kernel)[0])\n",
    "\n",
    "    # Loop through image pixels to perform the transform\n",
    "    for i in range(image_x - 1):\n",
    "        if i == image_x-cv_x:\n",
    "            break\n",
    "        \n",
    "        for j in range(image_y - 1):\n",
    "            if j == image_y-cv_x:\n",
    "                break\n",
    "            image_kernel = image[i:i+cv_x, j:j+cv_x]\n",
    "            result = conv_kernel * image_kernel\n",
    "            result = math.floor((np.sum(result)) * (1/np.sum(np.absolute(conv_kernel)))) # Issue here with one kernel - its sum is ZERO\n",
    "            canvas[i+1, j+1] = result\n",
    "\n",
    "    return canvas\n"
   ]
  },
  {
   "cell_type": "code",
   "execution_count": 177,
   "metadata": {},
   "outputs": [
    {
     "name": "stdout",
     "output_type": "stream",
     "text": [
      "(960, 1280)\n"
     ]
    },
    {
     "data": {
      "text/plain": [
       "True"
      ]
     },
     "execution_count": 177,
     "metadata": {},
     "output_type": "execute_result"
    }
   ],
   "source": [
    "# Part A - Code a function that takes an input image, performs convolution with a given kernel, and returns the \n",
    "# resulting image\n",
    "\n",
    "# Test with a Gaussian like filter\n",
    "conv_kernel_a = [\n",
    "    [1, 1, 1],\n",
    "    [1, 3, 1],\n",
    "    [1, 1, 1]\n",
    "]\n",
    "\n",
    "result = mtrx_convolution_tfm(image, conv_kernel_a)\n",
    "\n",
    "cv2.imwrite(\"./output/convolution/part_a/result.png\", result)"
   ]
  },
  {
   "cell_type": "code",
   "execution_count": 178,
   "metadata": {},
   "outputs": [
    {
     "data": {
      "text/plain": [
       "True"
      ]
     },
     "execution_count": 178,
     "metadata": {},
     "output_type": "execute_result"
    }
   ],
   "source": [
    "# Part B\n",
    "# Design a convolution kernel that computes, for each pixel, the average intensity value in a 3x3 region. \n",
    "# Use this kernel and the filtering function above, and save the resulting image.\n",
    "\n",
    "conv_kernel_b = np.ones((3,3))\n",
    "\n",
    "\n",
    "# Since we have already transformed the image above, we can use this to transform again with new kernel\n",
    "result = mtrx_convolution_tfm(result, conv_kernel_b)\n",
    "\n",
    "cv2.imwrite(\"./output/convolution/part_b/result.png\", result)"
   ]
  },
  {
   "cell_type": "code",
   "execution_count": 179,
   "metadata": {},
   "outputs": [
    {
     "name": "stderr",
     "output_type": "stream",
     "text": [
      "C:\\Users\\gpoel\\AppData\\Local\\Temp\\ipykernel_24320\\1816076559.py:21: RuntimeWarning: divide by zero encountered in scalar divide\n",
      "  result = math.floor((np.sum(result)) * (1/np.sum(conv_kernel)))\n",
      "C:\\Users\\gpoel\\AppData\\Local\\Temp\\ipykernel_24320\\1816076559.py:21: RuntimeWarning: invalid value encountered in scalar multiply\n",
      "  result = math.floor((np.sum(result)) * (1/np.sum(conv_kernel)))\n"
     ]
    },
    {
     "ename": "ValueError",
     "evalue": "cannot convert float NaN to integer",
     "output_type": "error",
     "traceback": [
      "\u001b[1;31m---------------------------------------------------------------------------\u001b[0m",
      "\u001b[1;31mValueError\u001b[0m                                Traceback (most recent call last)",
      "\u001b[1;32md:\\School\\SEMS Modules\\ECS709P - Computer Vision\\Lab\\Submission1\\submissions\\src\\lab1\\convolution.ipynb Cell 6\u001b[0m line \u001b[0;36m1\n\u001b[0;32m     <a href='vscode-notebook-cell:/d%3A/School/SEMS%20Modules/ECS709P%20-%20Computer%20Vision/Lab/Submission1/submissions/src/lab1/convolution.ipynb#X11sZmlsZQ%3D%3D?line=10'>11</a>\u001b[0m kernel_B \u001b[39m=\u001b[39m [\n\u001b[0;32m     <a href='vscode-notebook-cell:/d%3A/School/SEMS%20Modules/ECS709P%20-%20Computer%20Vision/Lab/Submission1/submissions/src/lab1/convolution.ipynb#X11sZmlsZQ%3D%3D?line=11'>12</a>\u001b[0m     [\u001b[39m0\u001b[39m, \u001b[39m1\u001b[39m, \u001b[39m0\u001b[39m],\n\u001b[0;32m     <a href='vscode-notebook-cell:/d%3A/School/SEMS%20Modules/ECS709P%20-%20Computer%20Vision/Lab/Submission1/submissions/src/lab1/convolution.ipynb#X11sZmlsZQ%3D%3D?line=12'>13</a>\u001b[0m     [\u001b[39m1\u001b[39m, \u001b[39m-\u001b[39m\u001b[39m4\u001b[39m, \u001b[39m1\u001b[39m],\n\u001b[0;32m     <a href='vscode-notebook-cell:/d%3A/School/SEMS%20Modules/ECS709P%20-%20Computer%20Vision/Lab/Submission1/submissions/src/lab1/convolution.ipynb#X11sZmlsZQ%3D%3D?line=13'>14</a>\u001b[0m     [\u001b[39m0\u001b[39m, \u001b[39m1\u001b[39m, \u001b[39m0\u001b[39m]\n\u001b[0;32m     <a href='vscode-notebook-cell:/d%3A/School/SEMS%20Modules/ECS709P%20-%20Computer%20Vision/Lab/Submission1/submissions/src/lab1/convolution.ipynb#X11sZmlsZQ%3D%3D?line=14'>15</a>\u001b[0m ]\n\u001b[0;32m     <a href='vscode-notebook-cell:/d%3A/School/SEMS%20Modules/ECS709P%20-%20Computer%20Vision/Lab/Submission1/submissions/src/lab1/convolution.ipynb#X11sZmlsZQ%3D%3D?line=16'>17</a>\u001b[0m result_a \u001b[39m=\u001b[39m mtrx_convolution_tfm(image, kernel_A)\n\u001b[1;32m---> <a href='vscode-notebook-cell:/d%3A/School/SEMS%20Modules/ECS709P%20-%20Computer%20Vision/Lab/Submission1/submissions/src/lab1/convolution.ipynb#X11sZmlsZQ%3D%3D?line=17'>18</a>\u001b[0m result_b \u001b[39m=\u001b[39m mtrx_convolution_tfm(image, kernel_B)\n\u001b[0;32m     <a href='vscode-notebook-cell:/d%3A/School/SEMS%20Modules/ECS709P%20-%20Computer%20Vision/Lab/Submission1/submissions/src/lab1/convolution.ipynb#X11sZmlsZQ%3D%3D?line=19'>20</a>\u001b[0m cv2\u001b[39m.\u001b[39mimwrite(\u001b[39m\"\u001b[39m\u001b[39m./output/convolution/part_c/result_a.png\u001b[39m\u001b[39m\"\u001b[39m, result_a)\n\u001b[0;32m     <a href='vscode-notebook-cell:/d%3A/School/SEMS%20Modules/ECS709P%20-%20Computer%20Vision/Lab/Submission1/submissions/src/lab1/convolution.ipynb#X11sZmlsZQ%3D%3D?line=20'>21</a>\u001b[0m cv2\u001b[39m.\u001b[39mimwrite(\u001b[39m\"\u001b[39m\u001b[39m./output/convolution/part_c/result_b.png\u001b[39m\u001b[39m\"\u001b[39m, result_b)\n",
      "\u001b[1;32md:\\School\\SEMS Modules\\ECS709P - Computer Vision\\Lab\\Submission1\\submissions\\src\\lab1\\convolution.ipynb Cell 6\u001b[0m line \u001b[0;36m2\n\u001b[0;32m     <a href='vscode-notebook-cell:/d%3A/School/SEMS%20Modules/ECS709P%20-%20Computer%20Vision/Lab/Submission1/submissions/src/lab1/convolution.ipynb#X11sZmlsZQ%3D%3D?line=18'>19</a>\u001b[0m         image_kernel \u001b[39m=\u001b[39m image[i:i\u001b[39m+\u001b[39mcv_x, j:j\u001b[39m+\u001b[39mcv_x]\n\u001b[0;32m     <a href='vscode-notebook-cell:/d%3A/School/SEMS%20Modules/ECS709P%20-%20Computer%20Vision/Lab/Submission1/submissions/src/lab1/convolution.ipynb#X11sZmlsZQ%3D%3D?line=19'>20</a>\u001b[0m         result \u001b[39m=\u001b[39m conv_kernel \u001b[39m*\u001b[39m image_kernel\n\u001b[1;32m---> <a href='vscode-notebook-cell:/d%3A/School/SEMS%20Modules/ECS709P%20-%20Computer%20Vision/Lab/Submission1/submissions/src/lab1/convolution.ipynb#X11sZmlsZQ%3D%3D?line=20'>21</a>\u001b[0m         result \u001b[39m=\u001b[39m math\u001b[39m.\u001b[39mfloor((np\u001b[39m.\u001b[39msum(result)) \u001b[39m*\u001b[39m (\u001b[39m1\u001b[39m\u001b[39m/\u001b[39mnp\u001b[39m.\u001b[39msum(conv_kernel)))\n\u001b[0;32m     <a href='vscode-notebook-cell:/d%3A/School/SEMS%20Modules/ECS709P%20-%20Computer%20Vision/Lab/Submission1/submissions/src/lab1/convolution.ipynb#X11sZmlsZQ%3D%3D?line=21'>22</a>\u001b[0m         canvas[i\u001b[39m+\u001b[39m\u001b[39m1\u001b[39m, j\u001b[39m+\u001b[39m\u001b[39m1\u001b[39m] \u001b[39m=\u001b[39m result\n\u001b[0;32m     <a href='vscode-notebook-cell:/d%3A/School/SEMS%20Modules/ECS709P%20-%20Computer%20Vision/Lab/Submission1/submissions/src/lab1/convolution.ipynb#X11sZmlsZQ%3D%3D?line=23'>24</a>\u001b[0m \u001b[39mreturn\u001b[39;00m canvas\n",
      "\u001b[1;31mValueError\u001b[0m: cannot convert float NaN to integer"
     ]
    }
   ],
   "source": [
    "# Part C\n",
    "#Use the kernels provided below, apply the filtering function and save the resulting images. Comment \n",
    "#on the effect of each kernel.\n",
    "\n",
    "kernel_A = [\n",
    "    [1, 2, 1],\n",
    "    [2, 4, 2],\n",
    "    [1, 2, 1]\n",
    "]\n",
    "\n",
    "kernel_B = [\n",
    "    [0, 1, 0],\n",
    "    [1, -4, 1],\n",
    "    [0, 1, 0]\n",
    "]\n",
    "\n",
    "result_a = mtrx_convolution_tfm(image, kernel_A)\n",
    "result_b = mtrx_convolution_tfm(image, kernel_B)\n",
    "\n",
    "cv2.imwrite(\"./output/convolution/part_c/result_a.png\", result_a)\n",
    "cv2.imwrite(\"./output/convolution/part_c/result_b.png\", result_b)"
   ]
  },
  {
   "cell_type": "code",
   "execution_count": null,
   "metadata": {},
   "outputs": [],
   "source": []
  }
 ],
 "metadata": {
  "kernelspec": {
   "display_name": "submissions",
   "language": "python",
   "name": "python3"
  },
  "language_info": {
   "codemirror_mode": {
    "name": "ipython",
    "version": 3
   },
   "file_extension": ".py",
   "mimetype": "text/x-python",
   "name": "python",
   "nbconvert_exporter": "python",
   "pygments_lexer": "ipython3",
   "version": "3.11.2"
  }
 },
 "nbformat": 4,
 "nbformat_minor": 2
}
