{
 "cells": [
  {
   "cell_type": "code",
   "execution_count": 1,
   "metadata": {},
   "outputs": [],
   "source": [
    "import numpy as np\n",
    "import cv2\n",
    "import matplotlib.pyplot as plt\n",
    "from utils import ICV_cw1"
   ]
  },
  {
   "cell_type": "code",
   "execution_count": null,
   "metadata": {},
   "outputs": [],
   "source": [
    "# Task A: Write a function that takes as input an image I, rotates it by an angle θ1 and horizontally skews it by\n",
    "# an angle, θ2\n",
    "\n",
    "# Declare image and angles to be used for transformations\n",
    "image = cv2.imread(\"../../data/test.jpg\")\n",
    "\n",
    "# Perform the transformation with both angles\n",
    "result = ICV_cw1(image, 90, 45)\n",
    "\n",
    "# Save the image in the output directory\n",
    "cv2.imwrite(\"../../output/cw1/result_A.png\", result)"
   ]
  },
  {
   "cell_type": "code",
   "execution_count": null,
   "metadata": {},
   "outputs": [],
   "source": [
    "# Task B: Create an image that contains your name written in Arial, point 72, capital letters. Rotate clockwise\n",
    "#         the image you created by 30, 60, 120 and -50 degrees. Skew the same image by 10, 40 and 60 \n",
    "#         degrees. Complete the process so that all the pixels have a value. Discuss in the report the \n",
    "#         advantages and disadvantages of different approaches.\n",
    "\n",
    "image = cv2.imread(\"../../data/cw1_b.png\")\n",
    "\n",
    "# Rotate image\n",
    "for theta in [30, 60, 120, -50]:\n",
    "    result = ICV_cw1(image, theta, theta, flag=\"rotate\")\n",
    "    cv2.imwrite(f\"../../output/cw1/result_B_rot_{theta}.png\", result)\n",
    "\n",
    "# Skew image\n",
    "for theta in [10, 40, 60]:\n",
    "    result = ICV_cw1(image, theta, theta, flag=\"shear\")\n",
    "    cv2.imwrite(f\"../../output/cw1/result_B_shear_{theta}.png\", result)\n"
   ]
  },
  {
   "cell_type": "code",
   "execution_count": 4,
   "metadata": {},
   "outputs": [
    {
     "name": "stdout",
     "output_type": "stream",
     "text": [
      "[[ 0.65302793  1.13075365]\n",
      " [-0.342       0.94      ]]\n",
      "[[ 0.65302793  1.13075365]\n",
      " [-0.342       0.94      ]]\n",
      "(3089, 2149, 3)\n",
      "[[ 0.65302793  1.13075365]\n",
      " [-0.342       0.94      ]]\n",
      "[[ 0.65302793  1.13075365]\n",
      " [-0.342       0.94      ]]\n",
      "(3089, 2149, 3)\n"
     ]
    }
   ],
   "source": [
    "# Task C: Analyse the results when you change the order of the two operators: R(S(I)) and S(R(I))\n",
    "\n",
    "image = cv2.imread(\"../../data/test.jpg\")\n",
    "\n",
    "# Rotate the image by θ1 = 20 clockwise and then skew the result by θ2 = 50.\n",
    "result = ICV_cw1(image, -20, 50, flag=\"rotate\")\n",
    "result1 = ICV_cw1(result, -20, 50, flag=\"shear\")\n",
    "cv2.imwrite(\"../../output/cw1/result_C_1.png\", result1)\n",
    "\n",
    "# Skew the image by θ2 = 50 and then rotate the result by θ1 = 20 clockwise\n",
    "result = ICV_cw1(image, -20, 50, flag=\"shear\")\n",
    "result2 = ICV_cw1(result, -20, 50, flag=\"rotate\")\n",
    "cv2.imwrite(\"../../output/cw1/result_C_2.png\", result2)"
   ]
  },
  {
   "cell_type": "code",
   "execution_count": null,
   "metadata": {},
   "outputs": [],
   "source": []
  }
 ],
 "metadata": {
  "kernelspec": {
   "display_name": "submissions",
   "language": "python",
   "name": "python3"
  },
  "language_info": {
   "codemirror_mode": {
    "name": "ipython",
    "version": 3
   },
   "file_extension": ".py",
   "mimetype": "text/x-python",
   "name": "python",
   "nbconvert_exporter": "python",
   "pygments_lexer": "ipython3",
   "version": "3.11.2"
  }
 },
 "nbformat": 4,
 "nbformat_minor": 2
}
