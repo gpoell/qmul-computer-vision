{
 "cells": [
  {
   "cell_type": "code",
   "execution_count": 1,
   "metadata": {},
   "outputs": [],
   "source": [
    "import numpy as np\n",
    "import cv2\n",
    "import matplotlib.pyplot as plt\n",
    "from utils import ICV_cw1"
   ]
  },
  {
   "cell_type": "code",
   "execution_count": null,
   "metadata": {},
   "outputs": [],
   "source": [
    "# Task A: Write a function that takes as input an image I, rotates it by an angle θ1 and horizontally skews it by\n",
    "# an angle, θ2\n",
    "\n",
    "# Declare image and angles to be used for transformations\n",
    "image = cv2.imread(\"../../data/test.jpg\")\n",
    "\n",
    "# Perform the transformation with both angles\n",
    "result = ICV_cw1(image, 90, 45)\n",
    "\n",
    "# Save the image in the output directory\n",
    "cv2.imwrite(\"../../output/cw1/result_A.png\", result)"
   ]
  },
  {
   "cell_type": "code",
   "execution_count": 7,
   "metadata": {},
   "outputs": [
    {
     "data": {
      "text/plain": [
       "True"
      ]
     },
     "execution_count": 7,
     "metadata": {},
     "output_type": "execute_result"
    }
   ],
   "source": [
    "# Task B: Create an image that contains your name written in Arial, point 72, capital letters. Rotate clockwise\n",
    "#         the image you created by 30, 60, 120 and -50 degrees. Skew the same image by 10, 40 and 60 \n",
    "#         degrees. Complete the process so that all the pixels have a value. Discuss in the report the \n",
    "#         advantages and disadvantages of different approaches.\n",
    "\n",
    "image = cv2.imread(\"../../data/cw1_b.png\")\n",
    "\n",
    "# Rotate the image by 30 degrees, Skew 10 and save to output\n",
    "result = ICV_cw1(image, 30, 10)\n",
    "cv2.imwrite(\"../../output/cw1/result_B_1.png\", result)\n",
    "\n",
    "# Rotate the image by 60 degrees, Skew 40 and save to output\n",
    "result = ICV_cw1(image, 60, 40)\n",
    "cv2.imwrite(\"../../output/cw1/result_B_2.png\", result)\n",
    "\n",
    "# Rotate the image by 120 degrees, Skew 60 and save to output\n",
    "result = ICV_cw1(image, 120, 60)\n",
    "cv2.imwrite(\"../../output/cw1/result_B_3.png\", result)\n",
    "\n",
    "# Rotate the image by -50 degrees, Skew 10 and save to output\n",
    "result = ICV_cw1(image, -50, 10)\n",
    "cv2.imwrite(\"../../output/cw1/result_B_4.png\", result)\n"
   ]
  },
  {
   "cell_type": "code",
   "execution_count": 6,
   "metadata": {},
   "outputs": [
    {
     "data": {
      "text/plain": [
       "True"
      ]
     },
     "execution_count": 6,
     "metadata": {},
     "output_type": "execute_result"
    }
   ],
   "source": [
    "# Task C: Analyse the results when you change the order of the two operators: R(S(I)) and S(R(I))\n",
    "\n",
    "image = cv2.imread(\"../../data/test.jpg\")\n",
    "\n",
    "# Rotate the image by θ1 = 20 clockwise and then skew the result by θ2 = 50.\n",
    "result = ICV_cw1(image, 20, 50)\n",
    "cv2.imwrite(\"../../output/cw1/result_C_1.png\", result)\n",
    "\n",
    "# Skew the image by θ2 = 50 and then rotate the result by θ1 = 20 clockwise\n",
    "result = ICV_cw1(image, 20, 50, \"reverse\")\n",
    "cv2.imwrite(\"../../output/cw1/result_C_2.png\", result)"
   ]
  },
  {
   "cell_type": "code",
   "execution_count": null,
   "metadata": {},
   "outputs": [],
   "source": []
  }
 ],
 "metadata": {
  "kernelspec": {
   "display_name": "submissions",
   "language": "python",
   "name": "python3"
  },
  "language_info": {
   "codemirror_mode": {
    "name": "ipython",
    "version": 3
   },
   "file_extension": ".py",
   "mimetype": "text/x-python",
   "name": "python",
   "nbconvert_exporter": "python",
   "pygments_lexer": "ipython3",
   "version": "3.11.2"
  }
 },
 "nbformat": 4,
 "nbformat_minor": 2
}
