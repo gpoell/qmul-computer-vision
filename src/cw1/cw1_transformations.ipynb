{
 "cells": [
  {
   "cell_type": "code",
   "execution_count": 1,
   "metadata": {},
   "outputs": [],
   "source": [
    "import numpy as np\n",
    "import cv2\n",
    "import matplotlib.pyplot as plt\n",
    "from utils import ICV_t_rotate, ICV_t_shear, ICV_transform_image"
   ]
  },
  {
   "cell_type": "code",
   "execution_count": 4,
   "metadata": {},
   "outputs": [],
   "source": [
    "# This cell defines all of the initial global variables required to run perform the exercise\n",
    "\n",
    "# Declare image and angles to be used for transformations\n",
    "image = cv2.imread(\"../../data/test.jpg\")\n",
    "\n",
    "# Theta1 is used for Rotations\n",
    "theta1 = np.radians(90)\n",
    "\n",
    "# Theta2 is used for Shear\n",
    "theta2 = np.radians(75)\n",
    "\n",
    "# Rotation Matrix\n",
    "t_rotate = ICV_t_rotate(theta1)\n",
    "\n",
    "# Shear matrix\n",
    "t_shear =  ICV_t_shear(theta2)\n"
   ]
  },
  {
   "cell_type": "code",
   "execution_count": 5,
   "metadata": {},
   "outputs": [
    {
     "data": {
      "text/plain": [
       "True"
      ]
     },
     "execution_count": 5,
     "metadata": {},
     "output_type": "execute_result"
    }
   ],
   "source": [
    "# Task A: Write a function that takes as input an image I, rotates it by an angle θ1 and horizontally skews it by\n",
    "# an angle, θ2\n",
    "\n",
    "# Calculate the transformation matrix for rotating by θ1 and skewing by θ2\n",
    "transform = np.dot(t_shear, t_rotate)\n",
    "\n",
    "# Perform the transformation of the image\n",
    "result = ICV_transform_image(image, transform)\n",
    "\n",
    "# Save the image in the output directory\n",
    "cv2.imwrite(\"../../output/cw1/transform_A.png\", result)"
   ]
  },
  {
   "cell_type": "code",
   "execution_count": null,
   "metadata": {},
   "outputs": [],
   "source": [
    "# Create an image that contains your name written in Arial, point 72, capital letters. Rotate clockwise\n",
    "# the image you created by 30, 60, 120 and -50 degrees. Skew the same image by 10, 40 and 60 \n",
    "# degrees. Complete the process so that all the pixels have a value. Discuss in the report the \n",
    "# advantages and disadvantages of different approaches."
   ]
  }
 ],
 "metadata": {
  "kernelspec": {
   "display_name": "submissions",
   "language": "python",
   "name": "python3"
  },
  "language_info": {
   "codemirror_mode": {
    "name": "ipython",
    "version": 3
   },
   "file_extension": ".py",
   "mimetype": "text/x-python",
   "name": "python",
   "nbconvert_exporter": "python",
   "pygments_lexer": "ipython3",
   "version": "3.11.2"
  }
 },
 "nbformat": 4,
 "nbformat_minor": 2
}
