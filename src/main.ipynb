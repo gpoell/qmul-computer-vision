{
 "cells": [
  {
   "cell_type": "code",
   "execution_count": 1,
   "metadata": {},
   "outputs": [],
   "source": [
    "import numpy as np\n",
    "import cv2\n",
    "import matplotlib.pyplot as plt\n",
    "import time\n",
    "from MtxTfms.Rotation import Rotation\n",
    "from MtxTfms.create_test_image import create_test_image"
   ]
  },
  {
   "cell_type": "code",
   "execution_count": 5,
   "metadata": {},
   "outputs": [],
   "source": [
    "# Test using the new Class Rotation\n",
    "\n",
    "# Step 1: Upload or generate test image\n",
    "# For this example we will use the image from the lab\n",
    "image = cv2.imread('../images/test.jpg')\n",
    "\n",
    "\n",
    "# Instantiate the Rotation object -- this takes 2 parameters; your image and your angle to rotate\n",
    "# All of the logic for rotating the image is stored inside of the object itself\n",
    "\n",
    "r = Rotation(image, 90)\n",
    "\n",
    "# Capture the result of the rotate image function\n",
    "result = r.rotate_image()\n",
    "\n",
    "# Save the image in the output directory\n",
    "cv2.imwrite(\"./output/result.png\", result)\n",
    "\n",
    "# Display the image\n",
    "im = cv2.imread('./output/result.png')\n",
    "cv2.imshow('window', im)\n",
    "cv2.waitKey(0)\n",
    "cv2.destroyAllWindows()"
   ]
  },
  {
   "cell_type": "code",
   "execution_count": null,
   "metadata": {},
   "outputs": [],
   "source": [
    "# Test using the Shear Class\n",
    "\n",
    "image = create_test_image()\n",
    "\n"
   ]
  },
  {
   "cell_type": "code",
   "execution_count": null,
   "metadata": {},
   "outputs": [],
   "source": []
  }
 ],
 "metadata": {
  "kernelspec": {
   "display_name": "submissions",
   "language": "python",
   "name": "python3"
  },
  "language_info": {
   "codemirror_mode": {
    "name": "ipython",
    "version": 3
   },
   "file_extension": ".py",
   "mimetype": "text/x-python",
   "name": "python",
   "nbconvert_exporter": "python",
   "pygments_lexer": "ipython3",
   "version": "3.11.2"
  }
 },
 "nbformat": 4,
 "nbformat_minor": 2
}
