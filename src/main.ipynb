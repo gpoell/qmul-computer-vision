{
 "cells": [
  {
   "cell_type": "code",
   "execution_count": 4,
   "metadata": {},
   "outputs": [],
   "source": [
    "# Run this to generate the correct folders for data (images, videos) and outputs\n",
    "import os\n",
    "\n",
    "paths = [\n",
    "    './../data/',\n",
    "    './../output/cw1',\n",
    "    './../output/cw2',\n",
    "    './../output/cw3/figures',\n",
    "    './../output/cw3/video_out',\n",
    "    './../output/cw4',\n",
    "    './../output/cw5/frame_diff',\n",
    "    './../output/cw5/video_out',\n",
    "]\n",
    "\n",
    "for folder in paths:\n",
    "    if not os.path.exists(folder):\n",
    "        os.makedirs(folder)\n",
    "    "
   ]
  },
  {
   "cell_type": "code",
   "execution_count": null,
   "metadata": {},
   "outputs": [],
   "source": []
  }
 ],
 "metadata": {
  "kernelspec": {
   "display_name": "submissions",
   "language": "python",
   "name": "python3"
  },
  "language_info": {
   "codemirror_mode": {
    "name": "ipython",
    "version": 3
   },
   "file_extension": ".py",
   "mimetype": "text/x-python",
   "name": "python",
   "nbconvert_exporter": "python",
   "pygments_lexer": "ipython3",
   "version": "3.11.2"
  }
 },
 "nbformat": 4,
 "nbformat_minor": 2
}
